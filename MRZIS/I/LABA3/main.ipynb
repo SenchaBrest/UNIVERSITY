{
 "metadata": {
  "kernelspec": {
   "language": "python",
   "display_name": "Python 3",
   "name": "python3"
  },
  "language_info": {
   "pygments_lexer": "ipython3",
   "nbconvert_exporter": "python",
   "version": "3.6.4",
   "file_extension": ".py",
   "codemirror_mode": {
    "name": "ipython",
    "version": 3
   },
   "name": "python",
   "mimetype": "text/x-python"
  }
 },
 "nbformat_minor": 4,
 "nbformat": 4,
 "cells": [
  {
   "cell_type": "code",
   "source": [
    "import time\n",
    "import pandas as pd\n",
    "from sklearn.preprocessing import MinMaxScaler\n",
    "from sklearn.model_selection import train_test_split\n",
    "from sklearn.ensemble import RandomForestClassifier\n",
    "from sklearn.metrics import accuracy_score, f1_score, recall_score, precision_score\n",
    "from perceptron import Perceptron"
   ],
   "metadata": {
    "id": "bJ71pS0V92Ia",
    "execution": {
     "iopub.status.busy": "2022-08-21T11:41:52.097791Z",
     "iopub.execute_input": "2022-08-21T11:41:52.098385Z",
     "iopub.status.idle": "2022-08-21T11:41:52.102265Z",
     "shell.execute_reply.started": "2022-08-21T11:41:52.098349Z",
     "shell.execute_reply": "2022-08-21T11:41:52.101256Z"
    },
    "trusted": true,
    "ExecuteTime": {
     "end_time": "2023-10-18T09:23:34.769544707Z",
     "start_time": "2023-10-18T09:23:34.242867866Z"
    }
   },
   "execution_count": 1,
   "outputs": []
  },
  {
   "cell_type": "code",
   "source": [
    "df = pd.read_csv(\"./ionosphere_data.csv\")"
   ],
   "metadata": {
    "id": "DtCvPYm998Ax",
    "execution": {
     "iopub.status.busy": "2022-08-21T11:41:52.103745Z",
     "iopub.execute_input": "2022-08-21T11:41:52.104177Z",
     "iopub.status.idle": "2022-08-21T11:41:52.124928Z",
     "shell.execute_reply.started": "2022-08-21T11:41:52.104153Z",
     "shell.execute_reply": "2022-08-21T11:41:52.124315Z"
    },
    "trusted": true,
    "ExecuteTime": {
     "end_time": "2023-10-18T09:23:35.500031597Z",
     "start_time": "2023-10-18T09:23:35.486963297Z"
    }
   },
   "execution_count": 2,
   "outputs": []
  },
  {
   "cell_type": "code",
   "source": [
    "df"
   ],
   "metadata": {
    "id": "mKMxYvqN-Cjp",
    "outputId": "d553aeb6-b3da-4b0e-9741-dbaa97230f9a",
    "execution": {
     "iopub.status.busy": "2022-08-21T11:41:52.126313Z",
     "iopub.execute_input": "2022-08-21T11:41:52.126724Z",
     "iopub.status.idle": "2022-08-21T11:41:52.148754Z",
     "shell.execute_reply.started": "2022-08-21T11:41:52.126699Z",
     "shell.execute_reply": "2022-08-21T11:41:52.147562Z"
    },
    "trusted": true,
    "ExecuteTime": {
     "end_time": "2023-10-18T09:23:35.951208568Z",
     "start_time": "2023-10-18T09:23:35.932188358Z"
    }
   },
   "execution_count": 3,
   "outputs": [
    {
     "data": {
      "text/plain": "     column_a  column_b  column_c  column_d  column_e  column_f  column_g  \\\n0        True     False   0.99539  -0.05889   0.85243   0.02306   0.83398   \n1        True     False   1.00000  -0.18829   0.93035  -0.36156  -0.10868   \n2        True     False   1.00000  -0.03365   1.00000   0.00485   1.00000   \n3        True     False   1.00000  -0.45161   1.00000   1.00000   0.71216   \n4        True     False   1.00000  -0.02401   0.94140   0.06531   0.92106   \n..        ...       ...       ...       ...       ...       ...       ...   \n346      True     False   0.83508   0.08298   0.73739  -0.14706   0.84349   \n347      True     False   0.95113   0.00419   0.95183  -0.02723   0.93438   \n348      True     False   0.94701  -0.00034   0.93207  -0.03227   0.95177   \n349      True     False   0.90608  -0.01657   0.98122  -0.01989   0.95691   \n350      True     False   0.84710   0.13533   0.73638  -0.06151   0.87873   \n\n     column_h  column_i  column_j  ...  column_z  column_aa  column_ab  \\\n0    -0.37708   1.00000   0.03760  ...  -0.51171    0.41078   -0.46168   \n1    -0.93597   1.00000  -0.04549  ...  -0.26569   -0.20468   -0.18401   \n2    -0.12062   0.88965   0.01198  ...  -0.40220    0.58984   -0.22145   \n3    -1.00000   0.00000   0.00000  ...   0.90695    0.51613    1.00000   \n4    -0.23255   0.77152  -0.16399  ...  -0.65158    0.13290   -0.53206   \n..        ...       ...       ...  ...       ...        ...        ...   \n346  -0.05567   0.90441  -0.04622  ...  -0.04202    0.83479    0.00123   \n347  -0.01920   0.94590   0.01606  ...   0.01361    0.93522    0.04925   \n348  -0.03431   0.95584   0.02446  ...   0.03193    0.92489    0.02542   \n349  -0.03646   0.85746   0.00110  ...  -0.02099    0.89147   -0.07760   \n350   0.08260   0.88928  -0.09139  ...  -0.15114    0.81147   -0.04822   \n\n     column_ac  column_ad  column_ae  column_af  column_ag  column_ah  \\\n0      0.21266   -0.34090    0.42267   -0.54487    0.18641   -0.45300   \n1     -0.19040   -0.11593   -0.16626   -0.06288   -0.13738   -0.02447   \n2      0.43100   -0.17365    0.60436   -0.24180    0.56045   -0.38238   \n3      1.00000   -0.20099    0.25682    1.00000   -0.32382    1.00000   \n4      0.02431   -0.62197   -0.05707   -0.59573   -0.04608   -0.65697   \n..         ...        ...        ...        ...        ...        ...   \n346    1.00000    0.12815    0.86660   -0.10714    0.90546   -0.04307   \n347    0.93159    0.08168    0.94066   -0.00035    0.91483    0.04712   \n348    0.92120    0.02242    0.92459    0.00442    0.92697   -0.00577   \n349    0.82983   -0.17238    0.96022   -0.03757    0.87403   -0.16243   \n350    0.78207   -0.00703    0.75747   -0.06678    0.85764   -0.06151   \n\n     column_ai  \n0            g  \n1            b  \n2            g  \n3            b  \n4            g  \n..         ...  \n346          g  \n347          g  \n348          g  \n349          g  \n350          g  \n\n[351 rows x 35 columns]",
      "text/html": "<div>\n<style scoped>\n    .dataframe tbody tr th:only-of-type {\n        vertical-align: middle;\n    }\n\n    .dataframe tbody tr th {\n        vertical-align: top;\n    }\n\n    .dataframe thead th {\n        text-align: right;\n    }\n</style>\n<table border=\"1\" class=\"dataframe\">\n  <thead>\n    <tr style=\"text-align: right;\">\n      <th></th>\n      <th>column_a</th>\n      <th>column_b</th>\n      <th>column_c</th>\n      <th>column_d</th>\n      <th>column_e</th>\n      <th>column_f</th>\n      <th>column_g</th>\n      <th>column_h</th>\n      <th>column_i</th>\n      <th>column_j</th>\n      <th>...</th>\n      <th>column_z</th>\n      <th>column_aa</th>\n      <th>column_ab</th>\n      <th>column_ac</th>\n      <th>column_ad</th>\n      <th>column_ae</th>\n      <th>column_af</th>\n      <th>column_ag</th>\n      <th>column_ah</th>\n      <th>column_ai</th>\n    </tr>\n  </thead>\n  <tbody>\n    <tr>\n      <th>0</th>\n      <td>True</td>\n      <td>False</td>\n      <td>0.99539</td>\n      <td>-0.05889</td>\n      <td>0.85243</td>\n      <td>0.02306</td>\n      <td>0.83398</td>\n      <td>-0.37708</td>\n      <td>1.00000</td>\n      <td>0.03760</td>\n      <td>...</td>\n      <td>-0.51171</td>\n      <td>0.41078</td>\n      <td>-0.46168</td>\n      <td>0.21266</td>\n      <td>-0.34090</td>\n      <td>0.42267</td>\n      <td>-0.54487</td>\n      <td>0.18641</td>\n      <td>-0.45300</td>\n      <td>g</td>\n    </tr>\n    <tr>\n      <th>1</th>\n      <td>True</td>\n      <td>False</td>\n      <td>1.00000</td>\n      <td>-0.18829</td>\n      <td>0.93035</td>\n      <td>-0.36156</td>\n      <td>-0.10868</td>\n      <td>-0.93597</td>\n      <td>1.00000</td>\n      <td>-0.04549</td>\n      <td>...</td>\n      <td>-0.26569</td>\n      <td>-0.20468</td>\n      <td>-0.18401</td>\n      <td>-0.19040</td>\n      <td>-0.11593</td>\n      <td>-0.16626</td>\n      <td>-0.06288</td>\n      <td>-0.13738</td>\n      <td>-0.02447</td>\n      <td>b</td>\n    </tr>\n    <tr>\n      <th>2</th>\n      <td>True</td>\n      <td>False</td>\n      <td>1.00000</td>\n      <td>-0.03365</td>\n      <td>1.00000</td>\n      <td>0.00485</td>\n      <td>1.00000</td>\n      <td>-0.12062</td>\n      <td>0.88965</td>\n      <td>0.01198</td>\n      <td>...</td>\n      <td>-0.40220</td>\n      <td>0.58984</td>\n      <td>-0.22145</td>\n      <td>0.43100</td>\n      <td>-0.17365</td>\n      <td>0.60436</td>\n      <td>-0.24180</td>\n      <td>0.56045</td>\n      <td>-0.38238</td>\n      <td>g</td>\n    </tr>\n    <tr>\n      <th>3</th>\n      <td>True</td>\n      <td>False</td>\n      <td>1.00000</td>\n      <td>-0.45161</td>\n      <td>1.00000</td>\n      <td>1.00000</td>\n      <td>0.71216</td>\n      <td>-1.00000</td>\n      <td>0.00000</td>\n      <td>0.00000</td>\n      <td>...</td>\n      <td>0.90695</td>\n      <td>0.51613</td>\n      <td>1.00000</td>\n      <td>1.00000</td>\n      <td>-0.20099</td>\n      <td>0.25682</td>\n      <td>1.00000</td>\n      <td>-0.32382</td>\n      <td>1.00000</td>\n      <td>b</td>\n    </tr>\n    <tr>\n      <th>4</th>\n      <td>True</td>\n      <td>False</td>\n      <td>1.00000</td>\n      <td>-0.02401</td>\n      <td>0.94140</td>\n      <td>0.06531</td>\n      <td>0.92106</td>\n      <td>-0.23255</td>\n      <td>0.77152</td>\n      <td>-0.16399</td>\n      <td>...</td>\n      <td>-0.65158</td>\n      <td>0.13290</td>\n      <td>-0.53206</td>\n      <td>0.02431</td>\n      <td>-0.62197</td>\n      <td>-0.05707</td>\n      <td>-0.59573</td>\n      <td>-0.04608</td>\n      <td>-0.65697</td>\n      <td>g</td>\n    </tr>\n    <tr>\n      <th>...</th>\n      <td>...</td>\n      <td>...</td>\n      <td>...</td>\n      <td>...</td>\n      <td>...</td>\n      <td>...</td>\n      <td>...</td>\n      <td>...</td>\n      <td>...</td>\n      <td>...</td>\n      <td>...</td>\n      <td>...</td>\n      <td>...</td>\n      <td>...</td>\n      <td>...</td>\n      <td>...</td>\n      <td>...</td>\n      <td>...</td>\n      <td>...</td>\n      <td>...</td>\n      <td>...</td>\n    </tr>\n    <tr>\n      <th>346</th>\n      <td>True</td>\n      <td>False</td>\n      <td>0.83508</td>\n      <td>0.08298</td>\n      <td>0.73739</td>\n      <td>-0.14706</td>\n      <td>0.84349</td>\n      <td>-0.05567</td>\n      <td>0.90441</td>\n      <td>-0.04622</td>\n      <td>...</td>\n      <td>-0.04202</td>\n      <td>0.83479</td>\n      <td>0.00123</td>\n      <td>1.00000</td>\n      <td>0.12815</td>\n      <td>0.86660</td>\n      <td>-0.10714</td>\n      <td>0.90546</td>\n      <td>-0.04307</td>\n      <td>g</td>\n    </tr>\n    <tr>\n      <th>347</th>\n      <td>True</td>\n      <td>False</td>\n      <td>0.95113</td>\n      <td>0.00419</td>\n      <td>0.95183</td>\n      <td>-0.02723</td>\n      <td>0.93438</td>\n      <td>-0.01920</td>\n      <td>0.94590</td>\n      <td>0.01606</td>\n      <td>...</td>\n      <td>0.01361</td>\n      <td>0.93522</td>\n      <td>0.04925</td>\n      <td>0.93159</td>\n      <td>0.08168</td>\n      <td>0.94066</td>\n      <td>-0.00035</td>\n      <td>0.91483</td>\n      <td>0.04712</td>\n      <td>g</td>\n    </tr>\n    <tr>\n      <th>348</th>\n      <td>True</td>\n      <td>False</td>\n      <td>0.94701</td>\n      <td>-0.00034</td>\n      <td>0.93207</td>\n      <td>-0.03227</td>\n      <td>0.95177</td>\n      <td>-0.03431</td>\n      <td>0.95584</td>\n      <td>0.02446</td>\n      <td>...</td>\n      <td>0.03193</td>\n      <td>0.92489</td>\n      <td>0.02542</td>\n      <td>0.92120</td>\n      <td>0.02242</td>\n      <td>0.92459</td>\n      <td>0.00442</td>\n      <td>0.92697</td>\n      <td>-0.00577</td>\n      <td>g</td>\n    </tr>\n    <tr>\n      <th>349</th>\n      <td>True</td>\n      <td>False</td>\n      <td>0.90608</td>\n      <td>-0.01657</td>\n      <td>0.98122</td>\n      <td>-0.01989</td>\n      <td>0.95691</td>\n      <td>-0.03646</td>\n      <td>0.85746</td>\n      <td>0.00110</td>\n      <td>...</td>\n      <td>-0.02099</td>\n      <td>0.89147</td>\n      <td>-0.07760</td>\n      <td>0.82983</td>\n      <td>-0.17238</td>\n      <td>0.96022</td>\n      <td>-0.03757</td>\n      <td>0.87403</td>\n      <td>-0.16243</td>\n      <td>g</td>\n    </tr>\n    <tr>\n      <th>350</th>\n      <td>True</td>\n      <td>False</td>\n      <td>0.84710</td>\n      <td>0.13533</td>\n      <td>0.73638</td>\n      <td>-0.06151</td>\n      <td>0.87873</td>\n      <td>0.08260</td>\n      <td>0.88928</td>\n      <td>-0.09139</td>\n      <td>...</td>\n      <td>-0.15114</td>\n      <td>0.81147</td>\n      <td>-0.04822</td>\n      <td>0.78207</td>\n      <td>-0.00703</td>\n      <td>0.75747</td>\n      <td>-0.06678</td>\n      <td>0.85764</td>\n      <td>-0.06151</td>\n      <td>g</td>\n    </tr>\n  </tbody>\n</table>\n<p>351 rows × 35 columns</p>\n</div>"
     },
     "execution_count": 3,
     "metadata": {},
     "output_type": "execute_result"
    }
   ]
  },
  {
   "cell_type": "code",
   "source": [
    "df = df.drop('column_b', axis=1)"
   ],
   "metadata": {
    "id": "cgnoQWLY2h14",
    "execution": {
     "iopub.status.busy": "2022-08-21T11:41:52.175411Z",
     "iopub.execute_input": "2022-08-21T11:41:52.176571Z",
     "iopub.status.idle": "2022-08-21T11:41:52.182180Z",
     "shell.execute_reply.started": "2022-08-21T11:41:52.176538Z",
     "shell.execute_reply": "2022-08-21T11:41:52.181202Z"
    },
    "trusted": true,
    "ExecuteTime": {
     "end_time": "2023-10-18T09:23:36.936802440Z",
     "start_time": "2023-10-18T09:23:36.925318196Z"
    }
   },
   "execution_count": 4,
   "outputs": []
  },
  {
   "cell_type": "code",
   "source": [
    "df.columns"
   ],
   "metadata": {
    "id": "XVP5x3Pa-U7y",
    "outputId": "e1cfd14f-028d-4bf3-f96c-58062d1c1719",
    "execution": {
     "iopub.status.busy": "2022-08-21T11:41:52.183318Z",
     "iopub.execute_input": "2022-08-21T11:41:52.184345Z",
     "iopub.status.idle": "2022-08-21T11:41:52.194717Z",
     "shell.execute_reply.started": "2022-08-21T11:41:52.184296Z",
     "shell.execute_reply": "2022-08-21T11:41:52.193939Z"
    },
    "trusted": true,
    "ExecuteTime": {
     "end_time": "2023-10-18T09:23:38.010531074Z",
     "start_time": "2023-10-18T09:23:38.001606922Z"
    }
   },
   "execution_count": 5,
   "outputs": [
    {
     "data": {
      "text/plain": "Index(['column_a', 'column_c', 'column_d', 'column_e', 'column_f', 'column_g',\n       'column_h', 'column_i', 'column_j', 'column_k', 'column_l', 'column_m',\n       'column_n', 'column_o', 'column_p', 'column_q', 'column_r', 'column_s',\n       'column_t', 'column_u', 'column_v', 'column_w', 'column_x', 'column_y',\n       'column_z', 'column_aa', 'column_ab', 'column_ac', 'column_ad',\n       'column_ae', 'column_af', 'column_ag', 'column_ah', 'column_ai'],\n      dtype='object')"
     },
     "execution_count": 5,
     "metadata": {},
     "output_type": "execute_result"
    }
   ]
  },
  {
   "cell_type": "code",
   "source": [
    "df['column_a'] = [1 if each == 'True' else 0 for each in df['column_a']]\n",
    "df['column_ai'] = [1 if each == 'g' else 0 for each in df['column_ai']]"
   ],
   "metadata": {
    "id": "ZJ0prtmHzjY9",
    "execution": {
     "iopub.status.busy": "2022-08-21T11:41:58.179837Z",
     "iopub.execute_input": "2022-08-21T11:41:58.180091Z",
     "iopub.status.idle": "2022-08-21T11:41:58.184908Z",
     "shell.execute_reply.started": "2022-08-21T11:41:58.180067Z",
     "shell.execute_reply": "2022-08-21T11:41:58.184273Z"
    },
    "trusted": true,
    "ExecuteTime": {
     "end_time": "2023-10-18T09:23:38.971514793Z",
     "start_time": "2023-10-18T09:23:38.968693901Z"
    }
   },
   "execution_count": 6,
   "outputs": []
  },
  {
   "cell_type": "code",
   "source": [
    "df.dtypes"
   ],
   "metadata": {
    "id": "z_hMTv8u2NIT",
    "outputId": "c3710c1b-5786-40fa-d9f5-7a9669091393",
    "execution": {
     "iopub.status.busy": "2022-08-21T11:41:58.211577Z",
     "iopub.execute_input": "2022-08-21T11:41:58.212409Z",
     "iopub.status.idle": "2022-08-21T11:41:58.222862Z",
     "shell.execute_reply.started": "2022-08-21T11:41:58.212360Z",
     "shell.execute_reply": "2022-08-21T11:41:58.222145Z"
    },
    "trusted": true,
    "ExecuteTime": {
     "end_time": "2023-10-18T09:23:39.946897750Z",
     "start_time": "2023-10-18T09:23:39.940668002Z"
    }
   },
   "execution_count": 7,
   "outputs": [
    {
     "data": {
      "text/plain": "column_a       int64\ncolumn_c     float64\ncolumn_d     float64\ncolumn_e     float64\ncolumn_f     float64\ncolumn_g     float64\ncolumn_h     float64\ncolumn_i     float64\ncolumn_j     float64\ncolumn_k     float64\ncolumn_l     float64\ncolumn_m     float64\ncolumn_n     float64\ncolumn_o     float64\ncolumn_p     float64\ncolumn_q     float64\ncolumn_r     float64\ncolumn_s     float64\ncolumn_t     float64\ncolumn_u     float64\ncolumn_v     float64\ncolumn_w     float64\ncolumn_x     float64\ncolumn_y     float64\ncolumn_z     float64\ncolumn_aa    float64\ncolumn_ab    float64\ncolumn_ac    float64\ncolumn_ad    float64\ncolumn_ae    float64\ncolumn_af    float64\ncolumn_ag    float64\ncolumn_ah    float64\ncolumn_ai      int64\ndtype: object"
     },
     "execution_count": 7,
     "metadata": {},
     "output_type": "execute_result"
    }
   ]
  },
  {
   "cell_type": "code",
   "source": [
    "X = df.values[:,:-1]\n",
    "y = df.values[:,-1]"
   ],
   "metadata": {
    "id": "SC423XuJaJJs",
    "execution": {
     "iopub.status.busy": "2022-08-21T11:41:58.224253Z",
     "iopub.execute_input": "2022-08-21T11:41:58.224952Z",
     "iopub.status.idle": "2022-08-21T11:41:58.231620Z",
     "shell.execute_reply.started": "2022-08-21T11:41:58.224925Z",
     "shell.execute_reply": "2022-08-21T11:41:58.230756Z"
    },
    "trusted": true,
    "ExecuteTime": {
     "end_time": "2023-10-18T09:23:41.107038704Z",
     "start_time": "2023-10-18T09:23:41.099484882Z"
    }
   },
   "execution_count": 8,
   "outputs": []
  },
  {
   "cell_type": "code",
   "source": [
    "scaler = MinMaxScaler()\n",
    "X = scaler.fit_transform(X)"
   ],
   "metadata": {
    "id": "-yAb5DZ45JpL",
    "execution": {
     "iopub.status.busy": "2022-08-21T11:41:58.242447Z",
     "iopub.execute_input": "2022-08-21T11:41:58.243062Z",
     "iopub.status.idle": "2022-08-21T11:41:58.251863Z",
     "shell.execute_reply.started": "2022-08-21T11:41:58.243032Z",
     "shell.execute_reply": "2022-08-21T11:41:58.251113Z"
    },
    "trusted": true,
    "ExecuteTime": {
     "end_time": "2023-10-18T09:46:58.811225502Z",
     "start_time": "2023-10-18T09:46:58.757743438Z"
    }
   },
   "execution_count": 22,
   "outputs": []
  },
  {
   "cell_type": "code",
   "source": [
    "X_train, X_test, y_train, y_test = train_test_split(X, y, test_size = 0.3, random_state = 42)"
   ],
   "metadata": {
    "id": "oVGdPLgRbeVd",
    "execution": {
     "iopub.status.busy": "2022-08-21T11:41:58.288391Z",
     "iopub.execute_input": "2022-08-21T11:41:58.288620Z",
     "iopub.status.idle": "2022-08-21T11:41:58.298262Z",
     "shell.execute_reply.started": "2022-08-21T11:41:58.288597Z",
     "shell.execute_reply": "2022-08-21T11:41:58.297632Z"
    },
    "trusted": true,
    "ExecuteTime": {
     "end_time": "2023-10-18T09:47:18.251574767Z",
     "start_time": "2023-10-18T09:47:18.228156075Z"
    }
   },
   "execution_count": 26,
   "outputs": []
  },
  {
   "cell_type": "code",
   "execution_count": 27,
   "outputs": [],
   "source": [
    "model = Perceptron(input_size=X_train.shape[1], hidden_size=3, output_size=1)\n",
    "model.train(X_train, y_train, epochs=100)"
   ],
   "metadata": {
    "collapsed": false,
    "ExecuteTime": {
     "end_time": "2023-10-18T09:47:20.404842614Z",
     "start_time": "2023-10-18T09:47:19.514655750Z"
    }
   }
  },
  {
   "cell_type": "code",
   "source": [
    "start_time = time.time()\n",
    "predictions = model.predict(X_test)\n",
    "binary_predictions = (predictions > 0.5).astype(int)\n",
    "end_time = time.time()\n",
    "execution_time = end_time - start_time\n",
    "\n",
    "accuracy = accuracy_score(y_test, binary_predictions)\n",
    "f1 = f1_score(y_test, binary_predictions)\n",
    "recall = recall_score(y_test, binary_predictions)\n",
    "precision = precision_score(y_test, binary_predictions)\n",
    "\n",
    "print(f\"Code execution time: {execution_time} seconds\")\n",
    "print(\"Perceptron Accuracy:\", accuracy)\n",
    "print(\"Perceptron F1-Score:\", f1)\n",
    "print(\"Perceptron Recall:\", recall)\n",
    "print(\"Perceptron Precision:\", precision)"
   ],
   "metadata": {
    "id": "a3w7jxXGaqz6",
    "execution": {
     "iopub.status.busy": "2022-08-21T11:41:58.311382Z",
     "iopub.execute_input": "2022-08-21T11:41:58.311949Z",
     "iopub.status.idle": "2022-08-21T11:41:58.320108Z",
     "shell.execute_reply.started": "2022-08-21T11:41:58.311916Z",
     "shell.execute_reply": "2022-08-21T11:41:58.319173Z"
    },
    "trusted": true,
    "ExecuteTime": {
     "end_time": "2023-10-18T09:47:06.360085288Z",
     "start_time": "2023-10-18T09:47:06.338563525Z"
    }
   },
   "execution_count": 25,
   "outputs": [
    {
     "name": "stdout",
     "output_type": "stream",
     "text": [
      "Code execution time: 0.00019288063049316406 seconds\n",
      "Perceptron Accuracy: 0.8679245283018868\n",
      "Perceptron F1-Score: 0.9054054054054054\n",
      "Perceptron Recall: 1.0\n",
      "Perceptron Precision: 0.8271604938271605\n"
     ]
    }
   ]
  },
  {
   "cell_type": "code",
   "execution_count": 13,
   "outputs": [
    {
     "data": {
      "text/plain": "RandomForestClassifier()",
      "text/html": "<style>#sk-container-id-1 {color: black;}#sk-container-id-1 pre{padding: 0;}#sk-container-id-1 div.sk-toggleable {background-color: white;}#sk-container-id-1 label.sk-toggleable__label {cursor: pointer;display: block;width: 100%;margin-bottom: 0;padding: 0.3em;box-sizing: border-box;text-align: center;}#sk-container-id-1 label.sk-toggleable__label-arrow:before {content: \"▸\";float: left;margin-right: 0.25em;color: #696969;}#sk-container-id-1 label.sk-toggleable__label-arrow:hover:before {color: black;}#sk-container-id-1 div.sk-estimator:hover label.sk-toggleable__label-arrow:before {color: black;}#sk-container-id-1 div.sk-toggleable__content {max-height: 0;max-width: 0;overflow: hidden;text-align: left;background-color: #f0f8ff;}#sk-container-id-1 div.sk-toggleable__content pre {margin: 0.2em;color: black;border-radius: 0.25em;background-color: #f0f8ff;}#sk-container-id-1 input.sk-toggleable__control:checked~div.sk-toggleable__content {max-height: 200px;max-width: 100%;overflow: auto;}#sk-container-id-1 input.sk-toggleable__control:checked~label.sk-toggleable__label-arrow:before {content: \"▾\";}#sk-container-id-1 div.sk-estimator input.sk-toggleable__control:checked~label.sk-toggleable__label {background-color: #d4ebff;}#sk-container-id-1 div.sk-label input.sk-toggleable__control:checked~label.sk-toggleable__label {background-color: #d4ebff;}#sk-container-id-1 input.sk-hidden--visually {border: 0;clip: rect(1px 1px 1px 1px);clip: rect(1px, 1px, 1px, 1px);height: 1px;margin: -1px;overflow: hidden;padding: 0;position: absolute;width: 1px;}#sk-container-id-1 div.sk-estimator {font-family: monospace;background-color: #f0f8ff;border: 1px dotted black;border-radius: 0.25em;box-sizing: border-box;margin-bottom: 0.5em;}#sk-container-id-1 div.sk-estimator:hover {background-color: #d4ebff;}#sk-container-id-1 div.sk-parallel-item::after {content: \"\";width: 100%;border-bottom: 1px solid gray;flex-grow: 1;}#sk-container-id-1 div.sk-label:hover label.sk-toggleable__label {background-color: #d4ebff;}#sk-container-id-1 div.sk-serial::before {content: \"\";position: absolute;border-left: 1px solid gray;box-sizing: border-box;top: 0;bottom: 0;left: 50%;z-index: 0;}#sk-container-id-1 div.sk-serial {display: flex;flex-direction: column;align-items: center;background-color: white;padding-right: 0.2em;padding-left: 0.2em;position: relative;}#sk-container-id-1 div.sk-item {position: relative;z-index: 1;}#sk-container-id-1 div.sk-parallel {display: flex;align-items: stretch;justify-content: center;background-color: white;position: relative;}#sk-container-id-1 div.sk-item::before, #sk-container-id-1 div.sk-parallel-item::before {content: \"\";position: absolute;border-left: 1px solid gray;box-sizing: border-box;top: 0;bottom: 0;left: 50%;z-index: -1;}#sk-container-id-1 div.sk-parallel-item {display: flex;flex-direction: column;z-index: 1;position: relative;background-color: white;}#sk-container-id-1 div.sk-parallel-item:first-child::after {align-self: flex-end;width: 50%;}#sk-container-id-1 div.sk-parallel-item:last-child::after {align-self: flex-start;width: 50%;}#sk-container-id-1 div.sk-parallel-item:only-child::after {width: 0;}#sk-container-id-1 div.sk-dashed-wrapped {border: 1px dashed gray;margin: 0 0.4em 0.5em 0.4em;box-sizing: border-box;padding-bottom: 0.4em;background-color: white;}#sk-container-id-1 div.sk-label label {font-family: monospace;font-weight: bold;display: inline-block;line-height: 1.2em;}#sk-container-id-1 div.sk-label-container {text-align: center;}#sk-container-id-1 div.sk-container {/* jupyter's `normalize.less` sets `[hidden] { display: none; }` but bootstrap.min.css set `[hidden] { display: none !important; }` so we also need the `!important` here to be able to override the default hidden behavior on the sphinx rendered scikit-learn.org. See: https://github.com/scikit-learn/scikit-learn/issues/21755 */display: inline-block !important;position: relative;}#sk-container-id-1 div.sk-text-repr-fallback {display: none;}</style><div id=\"sk-container-id-1\" class=\"sk-top-container\"><div class=\"sk-text-repr-fallback\"><pre>RandomForestClassifier()</pre><b>In a Jupyter environment, please rerun this cell to show the HTML representation or trust the notebook. <br />On GitHub, the HTML representation is unable to render, please try loading this page with nbviewer.org.</b></div><div class=\"sk-container\" hidden><div class=\"sk-item\"><div class=\"sk-estimator sk-toggleable\"><input class=\"sk-toggleable__control sk-hidden--visually\" id=\"sk-estimator-id-1\" type=\"checkbox\" checked><label for=\"sk-estimator-id-1\" class=\"sk-toggleable__label sk-toggleable__label-arrow\">RandomForestClassifier</label><div class=\"sk-toggleable__content\"><pre>RandomForestClassifier()</pre></div></div></div></div></div>"
     },
     "execution_count": 13,
     "metadata": {},
     "output_type": "execute_result"
    }
   ],
   "source": [
    "rf_model = RandomForestClassifier()\n",
    "rf_model.fit(X_train, y_train)"
   ],
   "metadata": {
    "collapsed": false,
    "ExecuteTime": {
     "end_time": "2023-10-18T09:23:55.844895744Z",
     "start_time": "2023-10-18T09:23:55.671039333Z"
    }
   }
  },
  {
   "cell_type": "code",
   "source": [
    "start_time = time.time()\n",
    "rf_accuracy = rf_model.score(X_test, y_test)\n",
    "end_time = time.time()\n",
    "execution_time = end_time - start_time\n",
    "\n",
    "rf_predictions = rf_model.predict(X_test)\n",
    "rf_binary_predictions = (rf_predictions > 0.5).astype(int)\n",
    "f1 = f1_score(y_test, rf_binary_predictions)\n",
    "recall = recall_score(y_test, rf_binary_predictions)\n",
    "precision = precision_score(y_test, rf_binary_predictions)\n",
    "\n",
    "print(f\"Code execution time: {execution_time} seconds\")\n",
    "print(\"Random Forest Accuracy:\", rf_accuracy)\n",
    "print(\"Random Forest F1-Score:\", f1)\n",
    "print(\"Random Forest Recall:\", recall)\n",
    "print(\"Random Forest Precision:\", precision)"
   ],
   "metadata": {
    "id": "kphJmBfabKEa",
    "outputId": "437364eb-a91e-4c00-f772-8f3b683d7aa6",
    "execution": {
     "iopub.status.busy": "2022-08-21T11:41:58.320998Z",
     "iopub.execute_input": "2022-08-21T11:41:58.321488Z",
     "iopub.status.idle": "2022-08-21T11:41:58.365181Z",
     "shell.execute_reply.started": "2022-08-21T11:41:58.321462Z",
     "shell.execute_reply": "2022-08-21T11:41:58.364553Z"
    },
    "trusted": true,
    "ExecuteTime": {
     "end_time": "2023-10-04T10:25:13.202179725Z",
     "start_time": "2023-10-04T10:25:13.157695183Z"
    }
   },
   "execution_count": 50,
   "outputs": [
    {
     "name": "stdout",
     "output_type": "stream",
     "text": [
      "Code execution time: 0.017954111099243164 seconds\n",
      "Random Forest Accuracy: 0.9528301886792453\n",
      "Random Forest F1-Score: 0.9635036496350364\n",
      "Random Forest Recall: 0.9850746268656716\n",
      "Random Forest Precision: 0.9428571428571428\n"
     ]
    }
   ]
  },
  {
   "cell_type": "code",
   "execution_count": null,
   "outputs": [],
   "source": [],
   "metadata": {
    "collapsed": false
   }
  }
 ]
}
