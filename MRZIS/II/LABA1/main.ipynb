{
 "cells": [
  {
   "cell_type": "code",
   "outputs": [],
   "source": [
    "import torch\n",
    "import torch.nn as nn\n",
    "import torch.optim as optim\n",
    "\n",
    "class Autoencoder(nn.Module):\n",
    "    def __init__(self, input_size, hidden_size):\n",
    "        super(Autoencoder, self).__init__()\n",
    "        self.encoder = nn.Sequential(\n",
    "            nn.Linear(input_size, hidden_size),\n",
    "            nn.LeakyReLU()\n",
    "        )\n",
    "        self.decoder = nn.Sequential(\n",
    "            nn.Linear(hidden_size, input_size),\n",
    "            nn.LeakyReLU()\n",
    "        )\n",
    "\n",
    "    def forward(self, x):\n",
    "        x = self.encoder(x)\n",
    "        x = self.decoder(x)\n",
    "        return x"
   ],
   "metadata": {
    "collapsed": false,
    "ExecuteTime": {
     "end_time": "2024-02-29T09:08:48.780584Z",
     "start_time": "2024-02-29T09:08:48.770314Z"
    }
   },
   "id": "1bbbaa839a5a5daf",
   "execution_count": 6
  },
  {
   "cell_type": "code",
   "outputs": [],
   "source": [
    "import numpy as np\n",
    " \n",
    "def PCA(X, num_components, return_error=False):\n",
    "    X_meaned = X - np.mean(X, axis=0)\n",
    "    cov_mat = np.cov(X_meaned, rowvar=False)\n",
    "    eigen_values, eigen_vectors = np.linalg.eigh(cov_mat)\n",
    "\n",
    "    sorted_index = np.argsort(eigen_values)[::-1]\n",
    "    sorted_eigenvectors = eigen_vectors[:, sorted_index]\n",
    "\n",
    "    eigenvector_subset = sorted_eigenvectors[:, 0:num_components]\n",
    "\n",
    "    X_reduced = np.dot(eigenvector_subset.transpose(), X_meaned.transpose()).transpose()\n",
    "    if return_error:\n",
    "        X_restored = np.dot(X_reduced, eigenvector_subset.transpose()) + np.mean(X, axis=0)\n",
    "        reconstruction_error = np.mean(np.square(X - X_restored))\n",
    "        return X_reduced, reconstruction_error\n",
    "    else:\n",
    "        return X_reduced"
   ],
   "metadata": {
    "collapsed": false,
    "ExecuteTime": {
     "end_time": "2024-02-29T09:08:50.000722Z",
     "start_time": "2024-02-29T09:08:49.986340Z"
    }
   },
   "id": "ed372b6d4eb6e5c7",
   "execution_count": 7
  },
  {
   "cell_type": "code",
   "outputs": [],
   "source": [
    "from sklearn.datasets import load_diabetes\n",
    "from sklearn.preprocessing import StandardScaler\n",
    "\n",
    "data = load_diabetes()\n",
    "X = data.data\n",
    "y = data.target"
   ],
   "metadata": {
    "collapsed": false,
    "ExecuteTime": {
     "end_time": "2024-02-29T09:08:50.820479Z",
     "start_time": "2024-02-29T09:08:50.806249Z"
    }
   },
   "id": "e556f0b0366924b",
   "execution_count": 8
  },
  {
   "cell_type": "code",
   "outputs": [
    {
     "name": "stdout",
     "output_type": "stream",
     "text": [
      "Ошибка для PCA: 0.44834695722485207\n"
     ]
    }
   ],
   "source": [
    "scaler = StandardScaler()\n",
    "X_scaled = scaler.fit_transform(X)\n",
    " \n",
    "X_pca, pca_error = PCA(X_scaled, 2, return_error=True)\n",
    "print(\"Ошибка для PCA:\", pca_error)"
   ],
   "metadata": {
    "collapsed": false,
    "ExecuteTime": {
     "end_time": "2024-02-29T09:08:51.399499Z",
     "start_time": "2024-02-29T09:08:51.387590Z"
    }
   },
   "id": "ae2784312b8e9c89",
   "execution_count": 9
  },
  {
   "cell_type": "code",
   "outputs": [
    {
     "name": "stdout",
     "output_type": "stream",
     "text": [
      "Ошибка для автоэнкодера: 0.7443582631929421\n"
     ]
    }
   ],
   "source": [
    "input_size = X_scaled.shape[1]\n",
    "hidden_size = 2\n",
    "\n",
    "autoencoder = Autoencoder(input_size, hidden_size)\n",
    "criterion = nn.MSELoss()\n",
    "optimizer = optim.Adam(autoencoder.parameters(), lr=0.001)\n",
    "\n",
    "num_epochs = 100\n",
    "batch_size = 16\n",
    "\n",
    "X_torch = torch.tensor(X_scaled, dtype=torch.float32)\n",
    "\n",
    "for epoch in range(num_epochs):\n",
    "    for i in range(0, len(X_torch), batch_size):\n",
    "        batch_x = X_torch[i:i+batch_size]\n",
    "        output = autoencoder(batch_x)\n",
    "        loss = criterion(output, batch_x)\n",
    "        optimizer.zero_grad()\n",
    "        loss.backward()\n",
    "        optimizer.step()\n",
    "\n",
    "with torch.no_grad():\n",
    "    X_torch_restored = autoencoder(X_torch).numpy()\n",
    "\n",
    "autoencoder_error = np.mean((X_scaled - X_torch_restored) ** 2)\n",
    "\n",
    "print(\"Ошибка для автоэнкодера:\", autoencoder_error)"
   ],
   "metadata": {
    "collapsed": false,
    "ExecuteTime": {
     "end_time": "2024-02-29T09:08:57.378346Z",
     "start_time": "2024-02-29T09:08:53.127724Z"
    }
   },
   "id": "d8d24af6867db462",
   "execution_count": 10
  },
  {
   "cell_type": "code",
   "outputs": [],
   "source": [],
   "metadata": {
    "collapsed": false
   },
   "id": "8aeb0cfc6439d3b1"
  }
 ],
 "metadata": {
  "kernelspec": {
   "display_name": "Python 3",
   "language": "python",
   "name": "python3"
  },
  "language_info": {
   "codemirror_mode": {
    "name": "ipython",
    "version": 2
   },
   "file_extension": ".py",
   "mimetype": "text/x-python",
   "name": "python",
   "nbconvert_exporter": "python",
   "pygments_lexer": "ipython2",
   "version": "2.7.6"
  }
 },
 "nbformat": 4,
 "nbformat_minor": 5
}
