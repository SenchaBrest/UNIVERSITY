{
 "cells": [
  {
   "cell_type": "code",
   "execution_count": 1,
   "id": "initial_id",
   "metadata": {
    "collapsed": true,
    "ExecuteTime": {
     "end_time": "2024-03-06T16:05:49.859589Z",
     "start_time": "2024-03-06T16:05:47.004702Z"
    }
   },
   "outputs": [],
   "source": [
    "import nltk\n",
    "from nltk.tokenize import word_tokenize\n",
    "from nltk.stem.snowball import RussianStemmer\n"
   ]
  },
  {
   "cell_type": "code",
   "outputs": [
    {
     "name": "stderr",
     "output_type": "stream",
     "text": [
      "[nltk_data] Downloading package punkt to\n",
      "[nltk_data]     C:\\Users\\sench\\AppData\\Roaming\\nltk_data...\n",
      "[nltk_data]   Package punkt is already up-to-date!\n",
      "[nltk_data] Downloading package averaged_perceptron_tagger_ru to\n",
      "[nltk_data]     C:\\Users\\sench\\AppData\\Roaming\\nltk_data...\n",
      "[nltk_data]   Package averaged_perceptron_tagger_ru is already up-to-\n",
      "[nltk_data]       date!\n"
     ]
    },
    {
     "data": {
      "text/plain": "True"
     },
     "execution_count": 2,
     "metadata": {},
     "output_type": "execute_result"
    }
   ],
   "source": [
    "nltk.download('punkt')\n",
    "nltk.download('averaged_perceptron_tagger_ru')\n",
    "nltk.download('stopwords')"
   ],
   "metadata": {
    "collapsed": false,
    "ExecuteTime": {
     "end_time": "2024-03-06T16:05:53.658232Z",
     "start_time": "2024-03-06T16:05:52.885876Z"
    }
   },
   "id": "30b562df60dc53ec",
   "execution_count": 2
  },
  {
   "cell_type": "code",
   "outputs": [],
   "source": [
    "def get_part_of_speech(word):\n",
    "    tokens = word_tokenize(word, language='russian')\n",
    "    pos_tags = nltk.pos_tag(tokens, lang='rus')\n",
    "    pos_dict = {\n",
    "        'A': 'прилагательное',\n",
    "        'ADV': 'наречие',\n",
    "        'ADVPRO': 'местоименное наречие',\n",
    "        'ANUM': 'числительное-прилагательное',\n",
    "        'CONJ': 'союз',\n",
    "        'INTJ': 'междометие',\n",
    "        'NONLEX': 'неизвестно',\n",
    "        'NUM': 'числительное',\n",
    "        'PART': 'частица',\n",
    "        'PR': 'предлог',\n",
    "        'S': 'существительное',\n",
    "        'SPRO': 'местоимение-существительное',\n",
    "        'V': 'глагол'\n",
    "    }\n",
    "    pos_tag = pos_tags[0][1] if pos_tags else None\n",
    "    pos_description = pos_dict.get(pos_tag, 'неизвестно')\n",
    "    return pos_tag, pos_description"
   ],
   "metadata": {
    "collapsed": false,
    "ExecuteTime": {
     "end_time": "2024-03-06T16:05:59.265975Z",
     "start_time": "2024-03-06T16:05:59.251439Z"
    }
   },
   "id": "55a54bce6f34ecca",
   "execution_count": 3
  },
  {
   "cell_type": "code",
   "outputs": [
    {
     "name": "stdout",
     "output_type": "stream",
     "text": [
      "Часть речи слова '1': ('NUM=ciph', 'неизвестно')\n"
     ]
    }
   ],
   "source": [
    "word = \"1\"\n",
    "part_of_speech = get_part_of_speech(word)\n",
    "print(f\"Часть речи слова '{word}': {part_of_speech}\")"
   ],
   "metadata": {
    "collapsed": false,
    "ExecuteTime": {
     "end_time": "2024-03-06T16:07:55.812231Z",
     "start_time": "2024-03-06T16:07:55.792097Z"
    }
   },
   "id": "543d0aec0f1a10a8",
   "execution_count": 11
  },
  {
   "cell_type": "code",
   "outputs": [
    {
     "name": "stdout",
     "output_type": "stream",
     "text": [
      "Основа слова 'яблочная' - 'яблочн'\n"
     ]
    },
    {
     "name": "stderr",
     "output_type": "stream",
     "text": [
      "[nltk_data] Downloading package punkt to\n",
      "[nltk_data]     C:\\Users\\sench\\AppData\\Roaming\\nltk_data...\n",
      "[nltk_data]   Package punkt is already up-to-date!\n",
      "[nltk_data] Downloading package stopwords to\n",
      "[nltk_data]     C:\\Users\\sench\\AppData\\Roaming\\nltk_data...\n",
      "[nltk_data]   Package stopwords is already up-to-date!\n",
      "[nltk_data] Downloading package averaged_perceptron_tagger_ru to\n",
      "[nltk_data]     C:\\Users\\sench\\AppData\\Roaming\\nltk_data...\n",
      "[nltk_data]   Package averaged_perceptron_tagger_ru is already up-to-\n",
      "[nltk_data]       date!\n"
     ]
    }
   ],
   "source": [
    "stemmer = RussianStemmer()\n",
    "\n",
    "def get_base_word(word):\n",
    "    return stemmer.stem(word)"
   ],
   "metadata": {
    "collapsed": false,
    "ExecuteTime": {
     "end_time": "2024-03-06T16:11:31.923488Z",
     "start_time": "2024-03-06T16:11:31.909631Z"
    }
   },
   "id": "da9afc79d80e7f79",
   "execution_count": 14
  },
  {
   "cell_type": "code",
   "outputs": [
    {
     "name": "stdout",
     "output_type": "stream",
     "text": [
      "Основа слова 'перевыполнил' - 'перевыполн'\n"
     ]
    }
   ],
   "source": [
    "word = \"перевыполнил\"\n",
    "base_word = get_base_word(word)\n",
    "print(\"Основа слова '{}' - '{}'\".format(word, base_word))"
   ],
   "metadata": {
    "collapsed": false,
    "ExecuteTime": {
     "end_time": "2024-03-06T16:19:20.470444Z",
     "start_time": "2024-03-06T16:19:20.465734Z"
    }
   },
   "id": "5f4faaef1e8a7642",
   "execution_count": 17
  },
  {
   "cell_type": "code",
   "outputs": [
    {
     "name": "stdout",
     "output_type": "stream",
     "text": [
      "Окончания слов: ['ер', 'та', 'за', 'ий', 'ов']\n"
     ]
    },
    {
     "name": "stderr",
     "output_type": "stream",
     "text": [
      "[nltk_data] Downloading package stopwords to\n",
      "[nltk_data]     C:\\Users\\sench\\AppData\\Roaming\\nltk_data...\n",
      "[nltk_data]   Package stopwords is already up-to-date!\n"
     ]
    }
   ],
   "source": [
    "import nltk\n",
    "from nltk.tokenize import word_tokenize\n",
    "from nltk.tokenize import regexp_tokenize\n",
    "from nltk.corpus import stopwords\n",
    "\n",
    "# Загрузка стоп-слов для русского языка\n",
    "nltk.download('stopwords')\n",
    "stop_words = set(stopwords.words('russian'))\n",
    "\n",
    "# Пример текста\n",
    "text = \"Пример текста для анализа окончаний слов\"\n",
    "\n",
    "# Токенизация текста\n",
    "tokens = word_tokenize(text)\n",
    "\n",
    "# Фильтрация стоп-слов\n",
    "filtered_tokens = [word for word in tokens if word.lower() not in stop_words]\n",
    "\n",
    "# Определение окончания слов\n",
    "endings = [word[-2:] for word in filtered_tokens]\n",
    "\n",
    "print(\"Окончания слов:\", endings)\n",
    "\n"
   ],
   "metadata": {
    "collapsed": false,
    "ExecuteTime": {
     "end_time": "2024-03-06T16:16:24.910325Z",
     "start_time": "2024-03-06T16:16:24.863227Z"
    }
   },
   "id": "c6b7bb39096a48f0",
   "execution_count": 16
  },
  {
   "cell_type": "code",
   "outputs": [
    {
     "name": "stdout",
     "output_type": "stream",
     "text": [
      "Слово: предал\n",
      "Нормальная форма: предать\n",
      "Часть речи: VERB\n",
      "Падеж: None\n",
      "Род: masc\n",
      "Число: sing\n",
      "Аспект: perf\n",
      "Наклонение: indc\n",
      "Время: past\n",
      "Залог: None\n"
     ]
    }
   ],
   "source": [
    "\n",
    "from pymorphy2 import MorphAnalyzer\n",
    "\n",
    "# Загружаем русский морфологический анализатор\n",
    "morph = MorphAnalyzer()\n",
    "\n",
    "# Функция для получения морфологической информации\n",
    "def get_morphological_info(word):\n",
    "    analyzed = morph.parse(word)\n",
    "    info = []\n",
    "    for result in analyzed:\n",
    "        info.append({\n",
    "            'word': result.word,\n",
    "            'normal_form': result.normal_form,\n",
    "            'tag': str(result.tag),\n",
    "            'pos': result.tag.POS,\n",
    "            'animacy': result.tag.animacy,\n",
    "            'aspect': result.tag.aspect,\n",
    "            'case': result.tag.case,\n",
    "            'gender': result.tag.gender,\n",
    "            'involvement': result.tag.involvement,\n",
    "            'mood': result.tag.mood,\n",
    "            'number': result.tag.number,\n",
    "            'person': result.tag.person,\n",
    "            'tense': result.tag.tense,\n",
    "            'transitivity': result.tag.transitivity,\n",
    "            'voice': result.tag.voice\n",
    "        })\n",
    "    return info\n",
    "\n",
    "# Пример использования\n",
    "word = \"предал\"\n",
    "morph_info = get_morphological_info(word)\n",
    "for info in morph_info:\n",
    "    print(\"Слово:\", info['word'])\n",
    "    print(\"Нормальная форма:\", info['normal_form'])\n",
    "    print(\"Часть речи:\", info['pos'])\n",
    "    print(\"Падеж:\", info['case'])\n",
    "    print(\"Род:\", info['gender'])\n",
    "    print(\"Число:\", info['number'])\n",
    "    print(\"Аспект:\", info['aspect'])\n",
    "    print(\"Наклонение:\", info['mood'])\n",
    "    print(\"Время:\", info['tense'])\n",
    "    print(\"Залог:\", info['voice'])\n",
    "    print()\n"
   ],
   "metadata": {
    "collapsed": false,
    "ExecuteTime": {
     "end_time": "2024-03-06T16:51:12.894321Z",
     "start_time": "2024-03-06T16:51:12.757155Z"
    }
   },
   "id": "61493078f7c718c5",
   "execution_count": 2
  },
  {
   "cell_type": "code",
   "outputs": [
    {
     "name": "stdout",
     "output_type": "stream",
     "text": [
      "СУЩ,од,мр ед,им\n",
      "[Parse(word='хранитель', tag=OpencorporaTag('NOUN,anim,masc sing,nomn'), normal_form='хранитель', score=1.0, methods_stack=((DictionaryAnalyzer(), 'хранитель', 123, 0),)), Parse(word='хранителя', tag=OpencorporaTag('NOUN,anim,masc sing,gent'), normal_form='хранитель', score=1.0, methods_stack=((DictionaryAnalyzer(), 'хранителя', 123, 1),)), Parse(word='хранителю', tag=OpencorporaTag('NOUN,anim,masc sing,datv'), normal_form='хранитель', score=1.0, methods_stack=((DictionaryAnalyzer(), 'хранителю', 123, 2),)), Parse(word='хранителя', tag=OpencorporaTag('NOUN,anim,masc sing,accs'), normal_form='хранитель', score=1.0, methods_stack=((DictionaryAnalyzer(), 'хранителя', 123, 3),)), Parse(word='хранителем', tag=OpencorporaTag('NOUN,anim,masc sing,ablt'), normal_form='хранитель', score=1.0, methods_stack=((DictionaryAnalyzer(), 'хранителем', 123, 4),)), Parse(word='хранителе', tag=OpencorporaTag('NOUN,anim,masc sing,loct'), normal_form='хранитель', score=1.0, methods_stack=((DictionaryAnalyzer(), 'хранителе', 123, 5),)), Parse(word='хранители', tag=OpencorporaTag('NOUN,anim,masc plur,nomn'), normal_form='хранитель', score=1.0, methods_stack=((DictionaryAnalyzer(), 'хранители', 123, 6),)), Parse(word='хранителей', tag=OpencorporaTag('NOUN,anim,masc plur,gent'), normal_form='хранитель', score=1.0, methods_stack=((DictionaryAnalyzer(), 'хранителей', 123, 7),)), Parse(word='хранителям', tag=OpencorporaTag('NOUN,anim,masc plur,datv'), normal_form='хранитель', score=1.0, methods_stack=((DictionaryAnalyzer(), 'хранителям', 123, 8),)), Parse(word='хранителей', tag=OpencorporaTag('NOUN,anim,masc plur,accs'), normal_form='хранитель', score=1.0, methods_stack=((DictionaryAnalyzer(), 'хранителей', 123, 9),)), Parse(word='хранителями', tag=OpencorporaTag('NOUN,anim,masc plur,ablt'), normal_form='хранитель', score=1.0, methods_stack=((DictionaryAnalyzer(), 'хранителями', 123, 10),)), Parse(word='хранителях', tag=OpencorporaTag('NOUN,anim,masc plur,loct'), normal_form='хранитель', score=1.0, methods_stack=((DictionaryAnalyzer(), 'хранителях', 123, 11),))]\n"
     ]
    }
   ],
   "source": [
    "import pymorphy2\n",
    "morph = pymorphy2.MorphAnalyzer()\n",
    "morph.parse(\"Хранитель\")\n",
    "w = morph.parse(\"Хранитель\")[0]\n",
    "a = ['__add__',\n",
    " '__class__',\n",
    " '__contains__',\n",
    " '__delattr__',\n",
    " '__dict__',\n",
    " '__dir__',\n",
    " '__doc__',\n",
    " '__eq__',\n",
    " '__format__',\n",
    " '__ge__',\n",
    " '__getattribute__',\n",
    " '__getitem__',\n",
    " '__getnewargs__',\n",
    " '__gt__',\n",
    " '__hash__',\n",
    " '__init__',\n",
    " '__init_subclass__',\n",
    " '__iter__',\n",
    " '__le__',\n",
    " '__len__',\n",
    " '__lt__',\n",
    " '__module__',\n",
    " '__mul__',\n",
    " '__ne__',\n",
    " '__new__',\n",
    " '__reduce__',\n",
    " '__reduce_ex__',\n",
    " '__repr__',\n",
    " '__rmul__',\n",
    " '__setattr__',\n",
    " '__sizeof__',\n",
    " '__slots__',\n",
    " '__str__',\n",
    " '__subclasshook__',\n",
    " '_asdict',\n",
    " '_dict',\n",
    " '_fields',\n",
    " '_fields_defaults',\n",
    " '_make',\n",
    " '_morph',\n",
    " '_replace',\n",
    " 'count',\n",
    " 'index',\n",
    " 'inflect',\n",
    " 'is_known',\n",
    " 'lexeme',\n",
    " 'make_agree_with_number',\n",
    " 'methods_stack',\n",
    " 'normal_form',\n",
    " 'normalized',\n",
    " 'score',\n",
    " 'tag',\n",
    " 'word']\n",
    "# print(w.count(0))\n",
    "print(w.tag.cyr_repr)\n",
    "print(w.lexeme)\n"
   ],
   "metadata": {
    "collapsed": false,
    "ExecuteTime": {
     "end_time": "2024-03-06T17:13:14.233627Z",
     "start_time": "2024-03-06T17:13:14.068264Z"
    }
   },
   "id": "90f9846eaf7d4b60",
   "execution_count": 17
  },
  {
   "cell_type": "code",
   "outputs": [
    {
     "name": "stdout",
     "output_type": "stream",
     "text": [
      "Слово: морфологический\n",
      "Нормальная форма: морфологический\n",
      "Часть речи: ADJF\n",
      "Основа слова: морфологический\n",
      "Окончание: \n"
     ]
    }
   ],
   "source": [
    "import pymorphy2\n",
    "\n",
    "morph = pymorphy2.MorphAnalyzer()\n",
    "\n",
    "def get_word_info(word):\n",
    "    parsed_word = morph.parse(word)[0]\n",
    "    return {\n",
    "        'word': word,\n",
    "        'normal_form': parsed_word.normal_form,\n",
    "        'pos': parsed_word.tag.POS,\n",
    "        'base_form': parsed_word.normal_form if parsed_word.tag.POS != 'NPRO' else word,\n",
    "        'suffix': word[len(parsed_word.normal_form):]\n",
    "    }\n",
    "\n",
    "# Пример использования\n",
    "word = \"морфологический\"\n",
    "word_info = get_word_info(word)\n",
    "print(\"Слово:\", word_info['word'])\n",
    "print(\"Нормальная форма:\", word_info['normal_form'])\n",
    "print(\"Часть речи:\", word_info['pos'])\n",
    "print(\"Основа слова:\", word_info['base_form'])\n",
    "print(\"Окончание:\", word_info['suffix'])\n"
   ],
   "metadata": {
    "collapsed": false,
    "ExecuteTime": {
     "end_time": "2024-03-06T17:00:01.190202Z",
     "start_time": "2024-03-06T17:00:01.051676Z"
    }
   },
   "id": "fca4edef646ef82d",
   "execution_count": 6
  },
  {
   "cell_type": "code",
   "outputs": [
    {
     "ename": "AttributeError",
     "evalue": "'Parse' object has no attribute 'stem'",
     "output_type": "error",
     "traceback": [
      "\u001B[1;31m---------------------------------------------------------------------------\u001B[0m",
      "\u001B[1;31mAttributeError\u001B[0m                            Traceback (most recent call last)",
      "\u001B[1;32m~\\AppData\\Local\\Temp\\ipykernel_10604\\4257459669.py\u001B[0m in \u001B[0;36m<module>\u001B[1;34m\u001B[0m\n\u001B[0;32m     27\u001B[0m \u001B[1;31m# Пример использования\u001B[0m\u001B[1;33m\u001B[0m\u001B[1;33m\u001B[0m\u001B[1;33m\u001B[0m\u001B[0m\n\u001B[0;32m     28\u001B[0m \u001B[0mword\u001B[0m \u001B[1;33m=\u001B[0m \u001B[1;34m\"морфологический\"\u001B[0m\u001B[1;33m\u001B[0m\u001B[1;33m\u001B[0m\u001B[0m\n\u001B[1;32m---> 29\u001B[1;33m \u001B[0mmorph_info\u001B[0m \u001B[1;33m=\u001B[0m \u001B[0mget_morphological_info\u001B[0m\u001B[1;33m(\u001B[0m\u001B[0mword\u001B[0m\u001B[1;33m)\u001B[0m\u001B[1;33m\u001B[0m\u001B[1;33m\u001B[0m\u001B[0m\n\u001B[0m\u001B[0;32m     30\u001B[0m \u001B[1;32mfor\u001B[0m \u001B[0minfo\u001B[0m \u001B[1;32min\u001B[0m \u001B[0mmorph_info\u001B[0m\u001B[1;33m:\u001B[0m\u001B[1;33m\u001B[0m\u001B[1;33m\u001B[0m\u001B[0m\n\u001B[0;32m     31\u001B[0m     \u001B[0mprint\u001B[0m\u001B[1;33m(\u001B[0m\u001B[1;34m\"Слово:\"\u001B[0m\u001B[1;33m,\u001B[0m \u001B[0minfo\u001B[0m\u001B[1;33m[\u001B[0m\u001B[1;34m'word'\u001B[0m\u001B[1;33m]\u001B[0m\u001B[1;33m)\u001B[0m\u001B[1;33m\u001B[0m\u001B[1;33m\u001B[0m\u001B[0m\n",
      "\u001B[1;32m~\\AppData\\Local\\Temp\\ipykernel_10604\\4257459669.py\u001B[0m in \u001B[0;36mget_morphological_info\u001B[1;34m(word)\u001B[0m\n\u001B[0;32m     20\u001B[0m             \u001B[1;34m'transitivity'\u001B[0m\u001B[1;33m:\u001B[0m \u001B[0mresult\u001B[0m\u001B[1;33m.\u001B[0m\u001B[0mtag\u001B[0m\u001B[1;33m.\u001B[0m\u001B[0mtransitivity\u001B[0m\u001B[1;33m,\u001B[0m\u001B[1;33m\u001B[0m\u001B[1;33m\u001B[0m\u001B[0m\n\u001B[0;32m     21\u001B[0m             \u001B[1;34m'voice'\u001B[0m\u001B[1;33m:\u001B[0m \u001B[0mresult\u001B[0m\u001B[1;33m.\u001B[0m\u001B[0mtag\u001B[0m\u001B[1;33m.\u001B[0m\u001B[0mvoice\u001B[0m\u001B[1;33m,\u001B[0m\u001B[1;33m\u001B[0m\u001B[1;33m\u001B[0m\u001B[0m\n\u001B[1;32m---> 22\u001B[1;33m             \u001B[1;34m'stem'\u001B[0m\u001B[1;33m:\u001B[0m \u001B[0mresult\u001B[0m\u001B[1;33m.\u001B[0m\u001B[0mstem\u001B[0m\u001B[1;33m,\u001B[0m\u001B[1;33m\u001B[0m\u001B[1;33m\u001B[0m\u001B[0m\n\u001B[0m\u001B[0;32m     23\u001B[0m             \u001B[1;34m'ending'\u001B[0m\u001B[1;33m:\u001B[0m \u001B[0mresult\u001B[0m\u001B[1;33m.\u001B[0m\u001B[0mnormalized\u001B[0m\u001B[1;33m.\u001B[0m\u001B[0mword\u001B[0m\u001B[1;33m[\u001B[0m\u001B[0mlen\u001B[0m\u001B[1;33m(\u001B[0m\u001B[0mresult\u001B[0m\u001B[1;33m.\u001B[0m\u001B[0mstem\u001B[0m\u001B[1;33m)\u001B[0m\u001B[1;33m:\u001B[0m\u001B[1;33m]\u001B[0m\u001B[1;33m\u001B[0m\u001B[1;33m\u001B[0m\u001B[0m\n\u001B[0;32m     24\u001B[0m         })\n",
      "\u001B[1;31mAttributeError\u001B[0m: 'Parse' object has no attribute 'stem'"
     ]
    }
   ],
   "source": [
    "# Функция для получения морфологической информации, включая часть речи, основу и окончание\n",
    "def get_morphological_info(word):\n",
    "    analyzed = morph.parse(word)\n",
    "    info = []\n",
    "    for result in analyzed:\n",
    "        info.append({\n",
    "            'word': result.word,\n",
    "            'normal_form': result.normal_form,\n",
    "            'tag': str(result.tag),\n",
    "            'pos': result.tag.POS,\n",
    "            'animacy': result.tag.animacy,\n",
    "            'aspect': result.tag.aspect,\n",
    "            'case': result.tag.case,\n",
    "            'gender': result.tag.gender,\n",
    "            'involvement': result.tag.involvement,\n",
    "            'mood': result.tag.mood,\n",
    "            'number': result.tag.number,\n",
    "            'person': result.tag.person,\n",
    "            'tense': result.tag.tense,\n",
    "            'transitivity': result.tag.transitivity,\n",
    "            'voice': result.tag.voice,\n",
    "            'stem': result.stem,\n",
    "            'ending': result.normalized.word[len(result.stem):]\n",
    "        })\n",
    "    return info\n",
    "\n",
    "# Пример использования\n",
    "word = \"морфологический\"\n",
    "morph_info = get_morphological_info(word)\n",
    "for info in morph_info:\n",
    "    print(\"Слово:\", info['word'])\n",
    "    print(\"Нормальная форма:\", info['normal_form'])\n",
    "    print(\"Часть речи:\", info['pos'])\n",
    "    print(\"Падеж:\", info['case'])\n",
    "    print(\"Род:\", info['gender'])\n",
    "    print(\"Число:\", info['number'])\n",
    "    print(\"Аспект:\", info['aspect'])\n",
    "    print(\"Наклонение:\", info['mood'])\n",
    "    print(\"Время:\", info['tense'])\n",
    "    print(\"Залог:\", info['voice'])\n",
    "    print(\"Основа слова:\", info['stem'])\n",
    "    print(\"Окончание слова:\", info['ending'])\n",
    "    print()\n"
   ],
   "metadata": {
    "collapsed": false,
    "ExecuteTime": {
     "end_time": "2024-03-06T17:00:55.871169Z",
     "start_time": "2024-03-06T17:00:55.839659Z"
    }
   },
   "id": "bbcf264fc2bfafb5",
   "execution_count": 7
  },
  {
   "cell_type": "code",
   "outputs": [],
   "source": [
    "# >>> p.tag\n",
    "# OpencorporaTag('VERB,perf,intr plur,past,indc')\n",
    "# >>> p.tag.POS           # Part of Speech, часть речи\n",
    "# 'VERB'\n",
    "# >>> p.tag.animacy       # одушевленность\n",
    "# None\n",
    "# >>> p.tag.aspect        # вид: совершенный или несовершенный\n",
    "# 'perf'\n",
    "# >>> p.tag.case          # падеж\n",
    "# None\n",
    "# >>> p.tag.gender        # род (мужской, женский, средний)\n",
    "# None\n",
    "# >>> p.tag.involvement   # включенность говорящего в действие\n",
    "# None\n",
    "# >>> p.tag.mood          # наклонение (повелительное, изъявительное)\n",
    "# 'indc'\n",
    "# >>> p.tag.number        # число (единственное, множественное)\n",
    "# 'plur'\n",
    "# >>> p.tag.person        # лицо (1, 2, 3)\n",
    "# None\n",
    "# >>> p.tag.tense         # время (настоящее, прошедшее, будущее)\n",
    "# 'past'\n",
    "# >>> p.tag.transitivity  # переходность (переходный, непереходный)\n",
    "# 'intr'\n",
    "# >>> p.tag.voice         # залог (действительный, страдательный)\n",
    "# None"
   ],
   "metadata": {
    "collapsed": false
   },
   "id": "d16ae350ec5690e"
  },
  {
   "cell_type": "code",
   "outputs": [
    {
     "name": "stdout",
     "output_type": "stream",
     "text": [
      "perf\n"
     ]
    }
   ],
   "source": [
    "import pymorphy3\n",
    "morph = pymorphy3.MorphAnalyzer()\n",
    "morph.parse(\"Хранитель\")\n",
    "w = morph.parse(\"Сделал\")[0]\n",
    "print(w.tag.aspect)"
   ],
   "metadata": {
    "collapsed": false,
    "ExecuteTime": {
     "end_time": "2024-03-07T06:55:29.608441Z",
     "start_time": "2024-03-07T06:55:29.397559Z"
    }
   },
   "id": "fc3eb155eef3e918",
   "execution_count": 34
  },
  {
   "cell_type": "code",
   "outputs": [],
   "source": [
    "import pymorphy3\n",
    "import grammemes\n",
    "\n",
    "class Morphius:\n",
    "    def __init__(self):\n",
    "        self.morph = pymorphy3.MorphAnalyzer()\n",
    "        self.w = None\n",
    "        \n",
    "    def parse(self, word):\n",
    "        self.w = self.morph.parse(word)[0]\n",
    "    \n",
    "    def __str__(self):            \n",
    "        queries = [\n",
    "            'POS', \n",
    "            'animacy', \n",
    "            'aspect', \n",
    "            'case', \n",
    "            'gender', \n",
    "            'mood', \n",
    "            'number', \n",
    "            'person', \n",
    "            'tense', \n",
    "            'transitivity', \n",
    "            'voice'\n",
    "        ]\n",
    "        \n",
    "        result = ''\n",
    "        for query in queries:\n",
    "            buf = getattr(grammemes, query).get(getattr(self.w.tag, query), '')\n",
    "            result += buf + ', ' if buf != '' else ''\n",
    "        if result.endswith(', '):\n",
    "            result = result[:-2]\n",
    "\n",
    "        return result\n",
    "    \n",
    "    def inflect(self, form: dict[str]):\n",
    "        return self.w.inflect(form)\n",
    "    "
   ],
   "metadata": {
    "collapsed": false,
    "ExecuteTime": {
     "end_time": "2024-03-07T07:27:20.056134Z",
     "start_time": "2024-03-07T07:27:20.044665Z"
    }
   },
   "id": "584cb718fb15043d",
   "execution_count": 7
  },
  {
   "cell_type": "code",
   "outputs": [],
   "source": [
    "a = Morphius()\n",
    "a.parse('')"
   ],
   "metadata": {
    "collapsed": false,
    "ExecuteTime": {
     "end_time": "2024-03-07T07:50:53.748414Z",
     "start_time": "2024-03-07T07:50:53.604276Z"
    }
   },
   "id": "796da82c6430a658",
   "execution_count": 42
  },
  {
   "cell_type": "code",
   "outputs": [
    {
     "name": "stdout",
     "output_type": "stream",
     "text": []
    }
   ],
   "source": [
    "print(a)"
   ],
   "metadata": {
    "collapsed": false,
    "ExecuteTime": {
     "end_time": "2024-03-07T07:50:54.253543Z",
     "start_time": "2024-03-07T07:50:54.246746Z"
    }
   },
   "id": "86488838e878d7ea",
   "execution_count": 43
  },
  {
   "cell_type": "code",
   "outputs": [],
   "source": [],
   "metadata": {
    "collapsed": false
   },
   "id": "1ee06ba7e43b8909"
  }
 ],
 "metadata": {
  "kernelspec": {
   "display_name": "Python 3",
   "language": "python",
   "name": "python3"
  },
  "language_info": {
   "codemirror_mode": {
    "name": "ipython",
    "version": 2
   },
   "file_extension": ".py",
   "mimetype": "text/x-python",
   "name": "python",
   "nbconvert_exporter": "python",
   "pygments_lexer": "ipython2",
   "version": "2.7.6"
  }
 },
 "nbformat": 4,
 "nbformat_minor": 5
}
