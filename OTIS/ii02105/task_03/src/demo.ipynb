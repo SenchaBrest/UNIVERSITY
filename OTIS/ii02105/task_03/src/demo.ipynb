{
 "cells": [
  {
   "cell_type": "code",
   "execution_count": 19,
   "id": "ad77f9d7",
   "metadata": {},
   "outputs": [],
   "source": [
    "from lib import GraphEditor\n",
    "from alg_button_lib import alg_buttons\n",
    "from export import *\n",
    "from sage.all import graphs, digraphs\n",
    "from sage.graphs.all import Graph"
   ]
  },
  {
   "cell_type": "code",
   "execution_count": 5,
   "id": "d28320ef",
   "metadata": {},
   "outputs": [
    {
     "data": {
      "application/vnd.jupyter.widget-view+json": {
       "model_id": "bc3851127d5f4398a9d1193ab4b3d1e4",
       "version_major": 2,
       "version_minor": 0
      },
      "text/plain": [
       "HBox(children=(VBox(children=(MultiCanvas(height=400, layout=Layout(border='3px solid lightgrey', height='406p…"
      ]
     },
     "metadata": {},
     "output_type": "display_data"
    }
   ],
   "source": [
    "G1 = Graph(2)\n",
    "ed1 = GraphEditor(G1)\n",
    "ed1.show()"
   ]
  },
  {
   "cell_type": "code",
   "execution_count": 21,
   "id": "ee3319b8",
   "metadata": {},
   "outputs": [
    {
     "data": {
      "application/vnd.jupyter.widget-view+json": {
       "model_id": "bf2f17cb399f46308f47238d9dc97a13",
       "version_major": 2,
       "version_minor": 0
      },
      "text/plain": [
       "VBox(children=(HBox(children=(Button(description='num_verts', style=ButtonStyle(), tooltip='num_verts'), Butto…"
      ]
     },
     "metadata": {},
     "output_type": "display_data"
    },
    {
     "name": "stdout",
     "output_type": "stream",
     "text": [
      "is_connected: True\n"
     ]
    }
   ],
   "source": [
    "button1 = alg_buttons(ed1, G1)\n",
    "button1"
   ]
  },
  {
   "cell_type": "code",
   "execution_count": 15,
   "id": "9606e520",
   "metadata": {},
   "outputs": [],
   "source": [
    "export_to_file(ed1, \"G1\", \"G1.txt\", orient=False)"
   ]
  },
  {
   "cell_type": "code",
   "execution_count": 16,
   "id": "327d26da",
   "metadata": {},
   "outputs": [
    {
     "data": {
      "application/vnd.jupyter.widget-view+json": {
       "model_id": "1d36ce9b84f541b89a56357733f2a14e",
       "version_major": 2,
       "version_minor": 0
      },
      "text/plain": [
       "HBox(children=(VBox(children=(MultiCanvas(height=400, layout=Layout(border='3px solid lightgrey', height='406p…"
      ]
     },
     "metadata": {},
     "output_type": "display_data"
    }
   ],
   "source": [
    "data = export_from_file(\"G1.txt\")\n",
    "if data[2] == \"ORIENT\":\n",
    "    G2 = digraphs.Circuit(data[0])\n",
    "    ed2 = GraphEditor(G2)\n",
    "else:\n",
    "    G2 = Graph(data[0])\n",
    "    ed2 = GraphEditor(G2)\n",
    "ed2.show()"
   ]
  },
  {
   "cell_type": "code",
   "execution_count": 10,
   "id": "5faca5f7",
   "metadata": {},
   "outputs": [
    {
     "data": {
      "application/vnd.jupyter.widget-view+json": {
       "model_id": "c7e6d7221f1a40dc9d24795a1f34b836",
       "version_major": 2,
       "version_minor": 0
      },
      "text/plain": [
       "HBox(children=(VBox(children=(MultiCanvas(height=400, layout=Layout(border='3px solid lightgrey', height='406p…"
      ]
     },
     "metadata": {},
     "output_type": "display_data"
    }
   ],
   "source": [
    "G3 = digraphs.Circuit(2)\n",
    "ed3 = GraphEditor(G3)\n",
    "ed3.show()"
   ]
  },
  {
   "cell_type": "code",
   "execution_count": 22,
   "id": "806eb0bb",
   "metadata": {},
   "outputs": [],
   "source": [
    "export_to_pickle(G3, \"G3.pkl\")"
   ]
  },
  {
   "cell_type": "code",
   "execution_count": 23,
   "id": "d1853bea",
   "metadata": {},
   "outputs": [
    {
     "data": {
      "application/vnd.jupyter.widget-view+json": {
       "model_id": "eb707f058026437d8552950658f0ab3d",
       "version_major": 2,
       "version_minor": 0
      },
      "text/plain": [
       "HBox(children=(VBox(children=(MultiCanvas(height=400, layout=Layout(border='3px solid lightgrey', height='406p…"
      ]
     },
     "metadata": {},
     "output_type": "display_data"
    }
   ],
   "source": [
    "data = export_from_pickle(\"G3.pkl\")\n",
    "ed4 = GraphEditor(data)\n",
    "ed4.show()"
   ]
  },
  {
   "cell_type": "code",
   "execution_count": null,
   "id": "1dce8ad1",
   "metadata": {},
   "outputs": [],
   "source": []
  }
 ],
 "metadata": {
  "kernelspec": {
   "display_name": "Python 3 (ipykernel)",
   "language": "python",
   "name": "python3"
  },
  "language_info": {
   "codemirror_mode": {
    "name": "ipython",
    "version": 3
   },
   "file_extension": ".py",
   "mimetype": "text/x-python",
   "name": "python",
   "nbconvert_exporter": "python",
   "pygments_lexer": "ipython3",
   "version": "3.10.5"
  }
 },
 "nbformat": 4,
 "nbformat_minor": 5
}
